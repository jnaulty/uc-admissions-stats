{
 "cells": [
  {
   "cell_type": "markdown",
   "metadata": {},
   "source": [
    "# Fort Bragg Admissions to UC Stats\n",
    "\n",
    "By: John Naulty Jr\n",
    "\n",
    "Date: March 27, 2018\n",
    "\n",
    "Data from [UC Admissions Infocenter](https://www.universityofcalifornia.edu/infocenter/admissions-source-school)\n"
   ]
  },
  {
   "cell_type": "code",
   "execution_count": 12,
   "metadata": {},
   "outputs": [],
   "source": [
    "import pandas as pd\n",
    "\n",
    "# Downloaded from: https://www.universityofcalifornia.edu/infocenter/admissions-source-school\n",
    "FALL_FRESH_BY_HIGH_SCHOOL=\"HS_by_Year_data_fort_bragg_ca.csv\"\n",
    "HS_YEAR_PD = pd.read_csv(FALL_FRESH_BY_HIGH_SCHOOL)\n",
    "\n",
    "\n",
    "\n",
    "# useful constants\n",
    "fall_term='Fall Term'\n",
    "measure_values='Measure Values'\n",
    "measure_names = 'Measure Names'\n",
    "university_wide = 'Universitywide'\n",
    "app_values='app_values'\n",
    "adm_values='adm_values'\n",
    "\n",
    "# nice-to-have filters\n",
    "#TODO: filter_factory...please\n",
    "in_uc = HS_YEAR_PD['Campus'] == university_wide\n",
    "in_berkeley = HS_YEAR_PD['Campus'] == 'Berkeley' \n",
    "\n",
    "app = HS_YEAR_PD['Measure Names'] == 'app'\n",
    "adm = HS_YEAR_PD['Measure Names'] == 'adm'\n",
    "All = HS_YEAR_PD['Uad Uc Ethn 6 Cat'] == \"All\"\n",
    "\n",
    "\n",
    "# all applicants + adm\n",
    "uc_all = HS_YEAR_PD[in_uc & All]\n",
    "berkeley_all = HS_YEAR_PD[in_berkeley & All]\n",
    "\n",
    "\n"
   ]
  },
  {
   "cell_type": "code",
   "execution_count": 13,
   "metadata": {},
   "outputs": [
    {
     "name": "stderr",
     "output_type": "stream",
     "text": [
      "/usr/local/lib/python3.6/site-packages/ipykernel_launcher.py:27: UserWarning: Boolean Series key will be reindexed to match DataFrame index.\n"
     ]
    },
    {
     "data": {
      "text/html": [
       "<div>\n",
       "<style scoped>\n",
       "    .dataframe tbody tr th:only-of-type {\n",
       "        vertical-align: middle;\n",
       "    }\n",
       "\n",
       "    .dataframe tbody tr th {\n",
       "        vertical-align: top;\n",
       "    }\n",
       "\n",
       "    .dataframe thead th {\n",
       "        text-align: right;\n",
       "    }\n",
       "</style>\n",
       "<table border=\"1\" class=\"dataframe\">\n",
       "  <thead>\n",
       "    <tr style=\"text-align: right;\">\n",
       "      <th></th>\n",
       "      <th>Calculation1</th>\n",
       "      <th>Campus</th>\n",
       "      <th>City</th>\n",
       "      <th>County</th>\n",
       "      <th>Fall Term</th>\n",
       "      <th>Measure Names</th>\n",
       "      <th>School</th>\n",
       "      <th>Measure Values</th>\n",
       "    </tr>\n",
       "  </thead>\n",
       "  <tbody>\n",
       "    <tr>\n",
       "      <th>11</th>\n",
       "      <td>FORT BRAGG HIGH SCHOOL050955</td>\n",
       "      <td>Universitywide</td>\n",
       "      <td>Fort Bragg</td>\n",
       "      <td>Mendocino</td>\n",
       "      <td>2017</td>\n",
       "      <td>Adm GPA</td>\n",
       "      <td>FORT BRAGG HIGH SCHOOL</td>\n",
       "      <td>4.096667</td>\n",
       "    </tr>\n",
       "    <tr>\n",
       "      <th>17</th>\n",
       "      <td>FORT BRAGG HIGH SCHOOL050955</td>\n",
       "      <td>Universitywide</td>\n",
       "      <td>Fort Bragg</td>\n",
       "      <td>Mendocino</td>\n",
       "      <td>2017</td>\n",
       "      <td>App GPA</td>\n",
       "      <td>FORT BRAGG HIGH SCHOOL</td>\n",
       "      <td>3.832500</td>\n",
       "    </tr>\n",
       "    <tr>\n",
       "      <th>24</th>\n",
       "      <td>FORT BRAGG HIGH SCHOOL050955</td>\n",
       "      <td>Universitywide</td>\n",
       "      <td>Fort Bragg</td>\n",
       "      <td>Mendocino</td>\n",
       "      <td>2016</td>\n",
       "      <td>Enrl GPA</td>\n",
       "      <td>FORT BRAGG HIGH SCHOOL</td>\n",
       "      <td>4.232000</td>\n",
       "    </tr>\n",
       "  </tbody>\n",
       "</table>\n",
       "</div>"
      ],
      "text/plain": [
       "                    Calculation1          Campus        City     County  \\\n",
       "11  FORT BRAGG HIGH SCHOOL050955  Universitywide  Fort Bragg  Mendocino   \n",
       "17  FORT BRAGG HIGH SCHOOL050955  Universitywide  Fort Bragg  Mendocino   \n",
       "24  FORT BRAGG HIGH SCHOOL050955  Universitywide  Fort Bragg  Mendocino   \n",
       "\n",
       "    Fall Term Measure Names                  School  Measure Values  \n",
       "11       2017       Adm GPA  FORT BRAGG HIGH SCHOOL        4.096667  \n",
       "17       2017       App GPA  FORT BRAGG HIGH SCHOOL        3.832500  \n",
       "24       2016      Enrl GPA  FORT BRAGG HIGH SCHOOL        4.232000  "
      ]
     },
     "execution_count": 13,
     "metadata": {},
     "output_type": "execute_result"
    }
   ],
   "source": [
    "def hs_gpa_stats(fr_gpa_by_inst_data_city_csv_file):\n",
    "    # hs_gpa_stats\n",
    "    # get university wide\n",
    "    col_measure_value = 'Measure Values'\n",
    "    col_fall_term = 'Fall Term'\n",
    "    col_measure_names = 'Measure Names'\n",
    "    \n",
    "    df = pd.read_csv(fr_gpa_by_inst_data_city_csv_file)\n",
    "    def _filter(_df):\n",
    "        '''\n",
    "        little helper to just filter\n",
    "        since I'm too lazy to go and\n",
    "        read the pandas docs..bambou\n",
    "        '''\n",
    "        #TODO: should take filters as input\n",
    "        filter_app = _df['Measure Names'] == 'App GPA'\n",
    "        filter_adm = _df['Measure Names'] == 'Adm GPA'\n",
    "        #active_filter_univ_wide =  df['Campus'] = university_wide # beware, = is not == in python $(but in bash it is)\n",
    "        filter_univ_wide = _df['Campus'] == university_wide\n",
    "        \n",
    "        #_df = _df[[col_fall_term, col_measure_names, col_measure_value, 'Campus' ]]\n",
    "        \n",
    "        num_cols = 8\n",
    "        _df = _df.dropna(thresh=num_cols)\n",
    "        \n",
    "        \n",
    "        _df = _df[filter_univ_wide]\n",
    "        \n",
    "        return _df\n",
    "    \n",
    "    #df = df[[col_fall_term, col_measure_names, col_measure_value ]]\n",
    "    df = _filter(df)\n",
    "    return df\n",
    "\n",
    "fresh_gpa_fb_csv = \"FR_GPA_by_Inst_data_fort_bragg.csv\"\n",
    "stats = hs_gpa_stats(fresh_gpa_fb_csv)\n",
    "stats[:3]\n",
    "\n",
    "#TODO get high-low value across each year's AdmGPA e.g  for 2017(4.09, 3.85)\n"
   ]
  },
  {
   "cell_type": "code",
   "execution_count": 14,
   "metadata": {},
   "outputs": [],
   "source": [
    "\n",
    "\n",
    "\n",
    "def ultimate_sort(df):\n",
    "    # used by fall freshman from high school stats...poorly named\n",
    "    df = df[[fall_term, measure_values, measure_names]]\n",
    "    df = df.dropna(thresh=3)\n",
    "    df = df.sort_values(by=fall_term)\n",
    "    \n",
    "    adm_df = df[measure_names] == 'adm'\n",
    "    app_df = df[measure_names] == 'app'\n",
    "    \n",
    "    app_measure = df[app_df][[fall_term, measure_values]]\n",
    "    app_measure.rename(columns={measure_values: app_values}, inplace=True)\n",
    "\n",
    "    adm_measure = df[adm_df][[fall_term, measure_values]]\n",
    "    adm_measure.rename(columns={measure_values: adm_values}, inplace=True)\n",
    "\n",
    "    split_measures = pd.merge_ordered(app_measure, adm_measure, on=fall_term)\n",
    "    return split_measures"
   ]
  },
  {
   "cell_type": "code",
   "execution_count": 15,
   "metadata": {},
   "outputs": [],
   "source": [
    "# berkeley admitted v applied (missing data in 2008 for some reason)\n",
    "berkeley_app_adm_plot=ultimate_sort(berkeley_all)\n",
    "#berkeley_app_adm_plot.plot(x=fall_term, kind='bar')\n"
   ]
  },
  {
   "cell_type": "code",
   "execution_count": 16,
   "metadata": {
    "scrolled": true
   },
   "outputs": [
    {
     "data": {
      "text/plain": [
       "<matplotlib.axes._subplots.AxesSubplot at 0x7feb1a5310f0>"
      ]
     },
     "execution_count": 16,
     "metadata": {},
     "output_type": "execute_result"
    },
    {
     "data": {
      "image/png": "[encoded data removed]",
      "text/plain": [
       "<Figure size 432x288 with 1 Axes>"
      ]
     },
     "metadata": {},
     "output_type": "display_data"
    }
   ],
   "source": [
    "# all uc applied v admitted\n",
    "uc_app_adm_plot=ultimate_sort(uc_all)\n",
    "uc_app_adm_plot.plot.bar(x=fall_term)"
   ]
  },
  {
   "cell_type": "code",
   "execution_count": 17,
   "metadata": {},
   "outputs": [
    {
     "name": "stdout",
     "output_type": "stream",
     "text": [
      "adm_values\n"
     ]
    },
    {
     "data": {
      "text/plain": [
       "<matplotlib.axes._subplots.AxesSubplot at 0x7feb1a2944a8>"
      ]
     },
     "execution_count": 17,
     "metadata": {},
     "output_type": "execute_result"
    },
    {
     "data": {
      "image/png": "[encoded data removed]",
      "text/plain": [
       "<Figure size 432x288 with 1 Axes>"
      ]
     },
     "metadata": {},
     "output_type": "display_data"
    }
   ],
   "source": [
    "# percent admitted per year\n",
    "print(adm_values)\n",
    "uc_app_adm_plot['perc_adm'] = (uc_app_adm_plot[adm_values] / uc_app_adm_plot[app_values]) * 100\n",
    "uc_app_adm_plot[[fall_term, 'perc_adm']].plot.bar(x=fall_term)"
   ]
  },
  {
   "cell_type": "code",
   "execution_count": 36,
   "metadata": {},
   "outputs": [
    {
     "name": "stdout",
     "output_type": "stream",
     "text": [
      "\n",
      "        Putting things in perspective.\n",
      " \n",
      "        Out of \n",
      "        24 years there were\n",
      "        16 years where admissions was greater than 80%, and\n",
      "        4 years where admissions was less than 70%\n",
      "        Those low admit years are pretty recent for Fort Bragg.\n",
      "        I wonder what the rates are for other high schools.\n",
      "        \n"
     ]
    }
   ],
   "source": [
    "admitted_percent_great_80 = uc_app_adm_plot[uc_app_adm_plot['perc_adm'] > 80]\n",
    "admitted_percent_less_70 = uc_app_adm_plot[uc_app_adm_plot['perc_adm'] < 70]\n",
    "\n",
    "total_years = len(uc_app_adm_plot)\n",
    "years_over_80 = len(admitted_percent_great_80)\n",
    "years_under_70 = len(admitted_percent_less_70)\n",
    "\n",
    "print(\"\"\"\n",
    "        Putting things in perspective.\\n \n",
    "        Out of \n",
    "        {total} years there were\n",
    "        {over_80} years where admissions was greater than 80%, and\n",
    "        {under_70} years where admissions was less than 70%\n",
    "        Those low admit years are pretty recent for Fort Bragg.\n",
    "        I wonder what the rates are for other high schools.\n",
    "        \"\"\".format(\n",
    "        total = total_years,\n",
    "        over_80= years_over_80,\n",
    "        under_70 = years_under_70))"
   ]
  },
  {
   "cell_type": "code",
   "execution_count": 19,
   "metadata": {},
   "outputs": [
    {
     "data": {
      "text/html": [
       "<div>\n",
       "<style scoped>\n",
       "    .dataframe tbody tr th:only-of-type {\n",
       "        vertical-align: middle;\n",
       "    }\n",
       "\n",
       "    .dataframe tbody tr th {\n",
       "        vertical-align: top;\n",
       "    }\n",
       "\n",
       "    .dataframe thead th {\n",
       "        text-align: right;\n",
       "    }\n",
       "</style>\n",
       "<table border=\"1\" class=\"dataframe\">\n",
       "  <thead>\n",
       "    <tr style=\"text-align: right;\">\n",
       "      <th></th>\n",
       "      <th>Fall Term</th>\n",
       "      <th>app_values</th>\n",
       "      <th>adm_values</th>\n",
       "      <th>perc_adm</th>\n",
       "    </tr>\n",
       "  </thead>\n",
       "  <tbody>\n",
       "    <tr>\n",
       "      <th>0</th>\n",
       "      <td>1994</td>\n",
       "      <td>11.0</td>\n",
       "      <td>9.0</td>\n",
       "      <td>81.818182</td>\n",
       "    </tr>\n",
       "    <tr>\n",
       "      <th>2</th>\n",
       "      <td>1996</td>\n",
       "      <td>12.0</td>\n",
       "      <td>12.0</td>\n",
       "      <td>100.000000</td>\n",
       "    </tr>\n",
       "    <tr>\n",
       "      <th>3</th>\n",
       "      <td>1997</td>\n",
       "      <td>14.0</td>\n",
       "      <td>12.0</td>\n",
       "      <td>85.714286</td>\n",
       "    </tr>\n",
       "    <tr>\n",
       "      <th>5</th>\n",
       "      <td>1999</td>\n",
       "      <td>8.0</td>\n",
       "      <td>8.0</td>\n",
       "      <td>100.000000</td>\n",
       "    </tr>\n",
       "    <tr>\n",
       "      <th>6</th>\n",
       "      <td>2000</td>\n",
       "      <td>15.0</td>\n",
       "      <td>15.0</td>\n",
       "      <td>100.000000</td>\n",
       "    </tr>\n",
       "    <tr>\n",
       "      <th>7</th>\n",
       "      <td>2001</td>\n",
       "      <td>19.0</td>\n",
       "      <td>17.0</td>\n",
       "      <td>89.473684</td>\n",
       "    </tr>\n",
       "    <tr>\n",
       "      <th>8</th>\n",
       "      <td>2002</td>\n",
       "      <td>17.0</td>\n",
       "      <td>15.0</td>\n",
       "      <td>88.235294</td>\n",
       "    </tr>\n",
       "    <tr>\n",
       "      <th>10</th>\n",
       "      <td>2004</td>\n",
       "      <td>15.0</td>\n",
       "      <td>13.0</td>\n",
       "      <td>86.666667</td>\n",
       "    </tr>\n",
       "    <tr>\n",
       "      <th>11</th>\n",
       "      <td>2005</td>\n",
       "      <td>8.0</td>\n",
       "      <td>7.0</td>\n",
       "      <td>87.500000</td>\n",
       "    </tr>\n",
       "    <tr>\n",
       "      <th>12</th>\n",
       "      <td>2006</td>\n",
       "      <td>10.0</td>\n",
       "      <td>9.0</td>\n",
       "      <td>90.000000</td>\n",
       "    </tr>\n",
       "    <tr>\n",
       "      <th>13</th>\n",
       "      <td>2007</td>\n",
       "      <td>11.0</td>\n",
       "      <td>9.0</td>\n",
       "      <td>81.818182</td>\n",
       "    </tr>\n",
       "    <tr>\n",
       "      <th>14</th>\n",
       "      <td>2008</td>\n",
       "      <td>16.0</td>\n",
       "      <td>15.0</td>\n",
       "      <td>93.750000</td>\n",
       "    </tr>\n",
       "    <tr>\n",
       "      <th>15</th>\n",
       "      <td>2009</td>\n",
       "      <td>9.0</td>\n",
       "      <td>9.0</td>\n",
       "      <td>100.000000</td>\n",
       "    </tr>\n",
       "    <tr>\n",
       "      <th>16</th>\n",
       "      <td>2010</td>\n",
       "      <td>12.0</td>\n",
       "      <td>11.0</td>\n",
       "      <td>91.666667</td>\n",
       "    </tr>\n",
       "    <tr>\n",
       "      <th>17</th>\n",
       "      <td>2011</td>\n",
       "      <td>12.0</td>\n",
       "      <td>10.0</td>\n",
       "      <td>83.333333</td>\n",
       "    </tr>\n",
       "    <tr>\n",
       "      <th>22</th>\n",
       "      <td>2016</td>\n",
       "      <td>15.0</td>\n",
       "      <td>14.0</td>\n",
       "      <td>93.333333</td>\n",
       "    </tr>\n",
       "  </tbody>\n",
       "</table>\n",
       "</div>"
      ],
      "text/plain": [
       "    Fall Term  app_values  adm_values    perc_adm\n",
       "0        1994        11.0         9.0   81.818182\n",
       "2        1996        12.0        12.0  100.000000\n",
       "3        1997        14.0        12.0   85.714286\n",
       "5        1999         8.0         8.0  100.000000\n",
       "6        2000        15.0        15.0  100.000000\n",
       "7        2001        19.0        17.0   89.473684\n",
       "8        2002        17.0        15.0   88.235294\n",
       "10       2004        15.0        13.0   86.666667\n",
       "11       2005         8.0         7.0   87.500000\n",
       "12       2006        10.0         9.0   90.000000\n",
       "13       2007        11.0         9.0   81.818182\n",
       "14       2008        16.0        15.0   93.750000\n",
       "15       2009         9.0         9.0  100.000000\n",
       "16       2010        12.0        11.0   91.666667\n",
       "17       2011        12.0        10.0   83.333333\n",
       "22       2016        15.0        14.0   93.333333"
      ]
     },
     "execution_count": 19,
     "metadata": {},
     "output_type": "execute_result"
    }
   ],
   "source": [
    "# Fort Bragg percent admitted greater than 80%\n",
    "admitted_percent_great_80\n"
   ]
  },
  {
   "cell_type": "code",
   "execution_count": 20,
   "metadata": {},
   "outputs": [
    {
     "data": {
      "text/html": [
       "<div>\n",
       "<style scoped>\n",
       "    .dataframe tbody tr th:only-of-type {\n",
       "        vertical-align: middle;\n",
       "    }\n",
       "\n",
       "    .dataframe tbody tr th {\n",
       "        vertical-align: top;\n",
       "    }\n",
       "\n",
       "    .dataframe thead th {\n",
       "        text-align: right;\n",
       "    }\n",
       "</style>\n",
       "<table border=\"1\" class=\"dataframe\">\n",
       "  <thead>\n",
       "    <tr style=\"text-align: right;\">\n",
       "      <th></th>\n",
       "      <th>Fall Term</th>\n",
       "      <th>app_values</th>\n",
       "      <th>adm_values</th>\n",
       "      <th>perc_adm</th>\n",
       "    </tr>\n",
       "  </thead>\n",
       "  <tbody>\n",
       "    <tr>\n",
       "      <th>18</th>\n",
       "      <td>2012</td>\n",
       "      <td>13.0</td>\n",
       "      <td>9.0</td>\n",
       "      <td>69.230769</td>\n",
       "    </tr>\n",
       "    <tr>\n",
       "      <th>20</th>\n",
       "      <td>2014</td>\n",
       "      <td>18.0</td>\n",
       "      <td>10.0</td>\n",
       "      <td>55.555556</td>\n",
       "    </tr>\n",
       "    <tr>\n",
       "      <th>21</th>\n",
       "      <td>2015</td>\n",
       "      <td>16.0</td>\n",
       "      <td>11.0</td>\n",
       "      <td>68.750000</td>\n",
       "    </tr>\n",
       "    <tr>\n",
       "      <th>23</th>\n",
       "      <td>2017</td>\n",
       "      <td>12.0</td>\n",
       "      <td>6.0</td>\n",
       "      <td>50.000000</td>\n",
       "    </tr>\n",
       "  </tbody>\n",
       "</table>\n",
       "</div>"
      ],
      "text/plain": [
       "    Fall Term  app_values  adm_values   perc_adm\n",
       "18       2012        13.0         9.0  69.230769\n",
       "20       2014        18.0        10.0  55.555556\n",
       "21       2015        16.0        11.0  68.750000\n",
       "23       2017        12.0         6.0  50.000000"
      ]
     },
     "execution_count": 20,
     "metadata": {},
     "output_type": "execute_result"
    }
   ],
   "source": [
    "# Fort Bragg percent admitted less than 70%\n",
    "admitted_percent_less_70"
   ]
  }
 ],
 "metadata": {
  "celltoolbar": "Raw Cell Format",
  "kernelspec": {
   "display_name": "Python 3",
   "language": "python",
   "name": "python3"
  },
  "language_info": {
   "codemirror_mode": {
    "name": "ipython",
    "version": 3
   },
   "file_extension": ".py",
   "mimetype": "text/x-python",
   "name": "python",
   "nbconvert_exporter": "python",
   "pygments_lexer": "ipython3",
   "version": "3.6.6"
  }
 },
 "nbformat": 4,
 "nbformat_minor": 2
}
